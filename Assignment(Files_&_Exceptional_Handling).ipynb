{
  "nbformat": 4,
  "nbformat_minor": 0,
  "metadata": {
    "colab": {
      "provenance": []
    },
    "kernelspec": {
      "name": "python3",
      "display_name": "Python 3"
    },
    "language_info": {
      "name": "python"
    }
  },
  "cells": [
    {
      "cell_type": "markdown",
      "source": [
        "Assignment questions"
      ],
      "metadata": {
        "id": "IYr0UqiekLO9"
      }
    },
    {
      "cell_type": "code",
      "source": [
        "#Q1. Discuss the scenarios where multithreading is preferable to multiprocessing and scenarios where multiprocessing is a better choice.\n",
        "\n",
        "\n",
        "#Multithreading is preferable in scenarios like I/O-bound tasks,where task wait for operations like reading from a disk or network ,and when shared memory is needed for communication between tasks.\n",
        "#on the other hand,multiprocessing is better for CPU-bounds tasks that require heavy computation,as it allows true parallelism across multiple CPU cores.it's also beneficial for process isolation,preventing crashes in one process from affecting others,and for security when running untrusted code.\n"
      ],
      "metadata": {
        "id": "WoxCOaBskMLf"
      },
      "execution_count": 1,
      "outputs": []
    },
    {
      "cell_type": "code",
      "source": [
        "#Q2. Describe what a process pool is and how it helps in managing multiple processes efficiently\n",
        "\n",
        "#in short , a process pool makes it easier and quicker to handle multiple tasks without overwhelming your system."
      ],
      "metadata": {
        "id": "juXDTkbkoD7i"
      },
      "execution_count": 2,
      "outputs": []
    },
    {
      "cell_type": "code",
      "source": [
        "#Q3. Explain what multiprocessing is and why it is used in Python programs.\n",
        "\n",
        "#process runs parallely on multiple processors is know as multiprocessing\n",
        "#multiprocessing in python is used to improve performance, handle heavy computations,ensure stability,and distribute tasks effectively."
      ],
      "metadata": {
        "id": "fDlKlNR7o3BK"
      },
      "execution_count": 3,
      "outputs": []
    },
    {
      "cell_type": "code",
      "source": [
        "#Q4. Write a Python program using multithreading where one thread adds numbers to a list, and another thread removes numbers from the list. Implement a mechanism to avoid race conditions using threading.Lock."
      ],
      "metadata": {
        "id": "6roitNvlqJ9x"
      },
      "execution_count": 4,
      "outputs": []
    },
    {
      "cell_type": "code",
      "source": [
        "import threading\n",
        "import time"
      ],
      "metadata": {
        "id": "E7RwfssJrBM1"
      },
      "execution_count": 5,
      "outputs": []
    },
    {
      "cell_type": "code",
      "source": [
        "shared_list = []\n",
        "lock = threading.Lock()\n",
        "\n",
        "def add_numbers():\n",
        "    for i in range(10):\n",
        "        time.sleep(0.1)\n",
        "        lock.acquire()\n",
        "        shared_list.append(i)\n",
        "        print(f\"Added {i}\")\n",
        "        lock.release()\n",
        "\n",
        "\n",
        "def remove_numbers():\n",
        "    for i in range(10):\n",
        "        time.sleep(0.2)\n",
        "        lock.acquire()\n",
        "        if shared_list:\n",
        "            removed_item = shared_list.pop(0)\n",
        "            print(f\"Removed {removed_item}\")\n",
        "            lock.release()\n",
        "        else:\n",
        "            print(\"List is empty, nothing to remove.\")\n",
        "            lock.release()\n",
        "\n",
        "#creating threads\n",
        "add_thread = threading.Thread(target=add_numbers)\n",
        "remove_thread = threading.Thread(target=remove_numbers)\n",
        "#Starting threads\n",
        "add_thread.start()\n",
        "remove_thread.start()\n",
        "#wait for both threads to finish\n",
        "add_thread.join()\n",
        "remove_thread.join()\n",
        "\n",
        "print(\"Final list:\", shared_list)\n",
        "\n",
        "\n",
        "\n",
        "\n"
      ],
      "metadata": {
        "colab": {
          "base_uri": "https://localhost:8080/"
        },
        "id": "JlrxpnFArFfK",
        "outputId": "550f6f7d-d853-437f-cc47-54616b00ccd6"
      },
      "execution_count": 6,
      "outputs": [
        {
          "output_type": "stream",
          "name": "stdout",
          "text": [
            "Added 0\n",
            "Added 1\n",
            "Removed 0\n",
            "Added 2\n",
            "Added 3\n",
            "Removed 1\n",
            "Added 4\n",
            "Added 5\n",
            "Removed 2\n",
            "Added 6\n",
            "Added 7\n",
            "Removed 3\n",
            "Added 8\n",
            "Added 9\n",
            "Removed 4\n",
            "Removed 5\n",
            "Removed 6\n",
            "Removed 7\n",
            "Removed 8\n",
            "Removed 9\n",
            "Final list: []\n"
          ]
        }
      ]
    },
    {
      "cell_type": "code",
      "source": [
        "#Q5. Describe the methods and tools available in Python for safely sharing data between threads and processes.\n",
        "\n",
        "'''\n",
        "#1. Threading Module:\n",
        "-Locks: Ensure only one thread accesses a resource at a time.\n",
        "-Semaphore: Control access to a resource with a predetermined number of permits.\n",
        "-Condition Variables: Allow one or more threads to wait for a specific condition to be met.\n",
        "-Queues: provide thread -safe queues for data sharing\n",
        "-RLocks: allows a thread to acquire the same lock multiple times without deadlocking.\n",
        "\n",
        "#2.Multiprocessing Medule:\n",
        "-Shared Memory:use 'Value' or 'Array' to share data between processes.\n",
        "-Manager: create shared object like lists or dictionaries\n",
        "\n",
        "#3.Events: allows one thread to signal another to proceed\n",
        "\n",
        "'''\n"
      ],
      "metadata": {
        "colab": {
          "base_uri": "https://localhost:8080/",
          "height": 87
        },
        "id": "Zu-dMXQEtK5m",
        "outputId": "57af64b8-68f1-4bd0-93b1-ef9195c965bd"
      },
      "execution_count": 9,
      "outputs": [
        {
          "output_type": "execute_result",
          "data": {
            "text/plain": [
              "\"\\n#1. Threading Module:\\n-Locks: Ensure only one thread accesses a resource at a time.\\n-Semaphore: Control access to a resource with a predetermined number of permits.\\n-Condition Variables: Allow one or more threads to wait for a specific condition to be met.\\n-Queues: provide thread -safe queues for data sharing\\n-RLocks: allows a thread to acquire the same lock multiple times without deadlocking.\\n\\n#2.Multiprocessing Medule:\\n-Shared Memory:use 'Value' or 'Array' to share data between processes.\\n-Manager: create shared object like lists or dictionaries\\n\\n#3.Events: allows one thread to signal another to proceed \\n\\n\""
            ],
            "application/vnd.google.colaboratory.intrinsic+json": {
              "type": "string"
            }
          },
          "metadata": {},
          "execution_count": 9
        }
      ]
    },
    {
      "cell_type": "code",
      "source": [
        "#Q6. Discuss why it’s crucial to handle exceptions in concurrent programs and the techniques available for doing so.\n",
        "\n",
        "#concurrent programs need proper exception handling to maintain stability,manage resources,ensure data integrity,and improve error reporting.if exceptions are not handled,they can lead to crashes,resource leaks,and inconsistent data states.\n",
        "\n",
        "#Some techniques for handling exceptions include:\n",
        "\n",
        "#1. Try-Except Blocks: catch exceptions within each thread to manage errors locally.\n",
        "#2. Custom Exception Classes : create specific exception types for better clarity and handling.\n",
        "#3. Thread-Safe Logging: use logging mechanisms that work safely in concurrent environment.\n",
        "#4. Futures or Callbacks: in languages like python,use futures to capture and manage exceptions from threads.\n",
        "#5. Graceful Shutdown: implement strategies to shut down threads safely when error occur."
      ],
      "metadata": {
        "id": "2IjLXv09weRf"
      },
      "execution_count": 10,
      "outputs": []
    },
    {
      "cell_type": "code",
      "source": [
        "#Q7. Create a program that uses a thread pool to calculate the factorial of numbers from 1 to 10 concurrently. Use concurrent.futures.ThreadPoolExecutor to manage the threads."
      ],
      "metadata": {
        "id": "LLYTBc5C5l6K"
      },
      "execution_count": 12,
      "outputs": []
    },
    {
      "cell_type": "code",
      "source": [
        "import concurrent.futures\n",
        "import threading\n",
        "import time"
      ],
      "metadata": {
        "id": "4l2YjGc1-_aB"
      },
      "execution_count": 13,
      "outputs": []
    },
    {
      "cell_type": "code",
      "source": [
        "def calculate_factorial(n):\n",
        "    \"\"\"Calculates the factorial of a number.\"\"\"\n",
        "    factorial = 1\n",
        "    for i in range(1, n + 1):\n",
        "        factorial *= i\n",
        "    return factorial\n",
        "\n",
        "\n",
        "if __name__ == \"__main__\":\n",
        "    with concurrent.futures.ThreadPoolExecutor(max_workers=10) as executor:\n",
        "        # Submit tasks to the thread pool\n",
        "        futures = [executor.submit(calculate_factorial, i) for i in range(1, 11)]\n",
        "\n",
        "        # Retrieve results as they become available\n",
        "        for future in concurrent.futures.as_completed(futures):\n",
        "            result = future.result()\n",
        "            print(f\"Factorial: {result}\")"
      ],
      "metadata": {
        "colab": {
          "base_uri": "https://localhost:8080/"
        },
        "id": "DSVOr7_A_A8c",
        "outputId": "031bacbb-0105-4b39-dbfe-0b30fd46579e"
      },
      "execution_count": 14,
      "outputs": [
        {
          "output_type": "stream",
          "name": "stdout",
          "text": [
            "Factorial: 1\n",
            "Factorial: 3628800\n",
            "Factorial: 720\n",
            "Factorial: 2\n",
            "Factorial: 6\n",
            "Factorial: 40320\n",
            "Factorial: 24\n",
            "Factorial: 5040\n",
            "Factorial: 120\n",
            "Factorial: 362880\n"
          ]
        }
      ]
    },
    {
      "cell_type": "code",
      "source": [
        "#Q8. Create a Python program that uses multiprocessing.Pool to compute the square of numbers from 1 to 10 in parallel. Measure the time taken to perform this computation using a pool of different sizes (e.g., 2, 4, 8 processes)."
      ],
      "metadata": {
        "id": "Z6p-T098_ED5"
      },
      "execution_count": 15,
      "outputs": []
    },
    {
      "cell_type": "code",
      "source": [
        "import multiprocessing\n",
        "import time"
      ],
      "metadata": {
        "id": "94_YQ0MY_2pH"
      },
      "execution_count": 25,
      "outputs": []
    },
    {
      "cell_type": "code",
      "source": [
        "def square(n):\n",
        "    \"\"\"Calculates the square of a number.\"\"\"\n",
        "    return n * n\n",
        "\n",
        "if __name__ == \"__main__\":\n",
        "    numbers = list(range(1, 11))\n",
        "\n",
        "    for num_processes in [2, 4, 8]:\n",
        "        start_time = time.time()\n",
        "        with multiprocessing.Pool(processes=num_processes) as pool:\n",
        "            results = pool.map(square, numbers)\n",
        "        end_time = time.time()\n",
        "\n",
        "        print(f\"With {num_processes} processes:\")\n",
        "        print(f\"Results: {results}\")\n",
        "        print(f\"Time taken: {end_time - start_time:.4f} seconds\")\n",
        "        print(\"-\" * 20)"
      ],
      "metadata": {
        "colab": {
          "base_uri": "https://localhost:8080/"
        },
        "id": "uAuw3PUdBpod",
        "outputId": "a7e76a62-c054-4de5-ebea-e50ee4a525fc"
      },
      "execution_count": 27,
      "outputs": [
        {
          "output_type": "stream",
          "name": "stdout",
          "text": [
            "With 2 processes:\n",
            "Results: [1, 4, 9, 16, 25, 36, 49, 64, 81, 100]\n",
            "Time taken: 0.0264 seconds\n",
            "--------------------\n",
            "With 4 processes:\n",
            "Results: [1, 4, 9, 16, 25, 36, 49, 64, 81, 100]\n",
            "Time taken: 0.0484 seconds\n",
            "--------------------\n",
            "With 8 processes:\n",
            "Results: [1, 4, 9, 16, 25, 36, 49, 64, 81, 100]\n",
            "Time taken: 0.0944 seconds\n",
            "--------------------\n"
          ]
        }
      ]
    }
  ]
}